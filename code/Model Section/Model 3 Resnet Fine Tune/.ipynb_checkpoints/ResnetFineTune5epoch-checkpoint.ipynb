{
 "cells": [
  {
   "cell_type": "code",
   "execution_count": 1,
   "id": "448ebe59-3004-4900-940d-a904f755f62b",
   "metadata": {},
   "outputs": [],
   "source": [
    "import numpy as np\n",
    "import pandas as pd\n",
    "import tensorflow as tf\n",
    "from tensorflow import keras\n",
    "from tensorflow.keras import layers, models\n",
    "from tensorflow.keras.models import Sequential\n",
    "from tensorflow.keras.layers import Activation, Dense, Flatten, BatchNormalization, Conv2D, MaxPool2D , Dropout\n",
    "from tensorflow.keras.optimizers import Adam\n",
    "from tensorflow.keras.metrics import categorical_crossentropy\n",
    "from tensorflow.keras.preprocessing.image import ImageDataGenerator\n",
    "from tensorflow.keras.applications import ResNet50\n",
    "from tensorflow.keras.applications.resnet50 import preprocess_input\n",
    "from tensorflow.keras.callbacks import EarlyStopping\n",
    "from sklearn.metrics import classification_report,confusion_matrix\n",
    "from sklearn.utils.class_weight import compute_class_weight\n",
    "import itertools\n",
    "import os\n",
    "import matplotlib.pyplot as plt\n",
    "import cv2\n",
    "import random\n",
    "import shutil\n",
    "import requests\n",
    "from sklearn.model_selection import train_test_split\n",
    "%matplotlib inline"
   ]
  },
  {
   "cell_type": "code",
   "execution_count": 2,
   "id": "70ed6d0b-e4cf-4b07-acaa-1ec82707c46e",
   "metadata": {},
   "outputs": [],
   "source": [
    "real_path = 'data/real'\n",
    "fake_path = 'data/fake'\n"
   ]
  },
  {
   "cell_type": "code",
   "execution_count": 3,
   "id": "2b5b7ec6-4684-4907-ab46-088063be4004",
   "metadata": {},
   "outputs": [],
   "source": [
    "base_dir = '/data'\n",
    "train_dir = os.path.join(base_dir, 'train')\n",
    "val_dir = os.path.join(base_dir, 'validation')\n",
    "test_dir = os.path.join(base_dir, 'test')\n",
    "\n",
    "for directory in [train_dir, val_dir, test_dir]:\n",
    "    os.makedirs(os.path.join(directory, 'real'), exist_ok=True)\n",
    "    os.makedirs(os.path.join(directory, 'fake'), exist_ok=True)"
   ]
  },
  {
   "cell_type": "code",
   "execution_count": 4,
   "id": "e1f9ccf6-4f89-4e76-b54e-7feedf76cbf2",
   "metadata": {},
   "outputs": [],
   "source": [
    "def split_data(SOURCE, TRAINING, VALIDATION, TEST, split_size=0.7, val_size=0.15):\n",
    "    files = [f for f in os.listdir(SOURCE) if os.path.isfile(os.path.join(SOURCE, f))]\n",
    "    \n",
    "    train_files, test_files = train_test_split(files, test_size=1-split_size, random_state=42)\n",
    "    val_files, test_files = train_test_split(test_files, test_size=1 - val_size / (1 - split_size), random_state=42)\n",
    "\n",
    "    for file_name in train_files:\n",
    "        shutil.copy(os.path.join(SOURCE, file_name), os.path.join(TRAINING, file_name))\n",
    "    for file_name in val_files:\n",
    "        shutil.copy(os.path.join(SOURCE, file_name), os.path.join(VALIDATION, file_name))\n",
    "    for file_name in test_files:\n",
    "        shutil.copy(os.path.join(SOURCE, file_name), os.path.join(TEST, file_name))\n"
   ]
  },
  {
   "cell_type": "code",
   "execution_count": 5,
   "id": "13ab47da-cfaf-4259-8d02-7138eed350e1",
   "metadata": {},
   "outputs": [],
   "source": [
    "split_data(real_path, os.path.join(train_dir, 'real'), os.path.join(val_dir, 'real'), os.path.join(test_dir, 'real'))\n",
    "split_data(fake_path, os.path.join(train_dir, 'fake'), os.path.join(val_dir, 'fake'), os.path.join(test_dir, 'fake'))"
   ]
  },
  {
   "cell_type": "code",
   "execution_count": 4,
   "id": "d66d728d-17c8-4a1c-90e3-094819356372",
   "metadata": {},
   "outputs": [
    {
     "name": "stdout",
     "output_type": "stream",
     "text": [
      "Found 26139 images belonging to 2 classes.\n",
      "Found 5943 images belonging to 2 classes.\n",
      "Found 5934 images belonging to 2 classes.\n"
     ]
    }
   ],
   "source": [
    "batch_size = 16\n",
    "img_size = (224, 224)\n",
    "\n",
    "data_gen = ImageDataGenerator(\n",
    "    preprocessing_function=preprocess_input,\n",
    "    horizontal_flip=True,\n",
    "    vertical_flip=True,\n",
    "    brightness_range=[0.4,1.5],\n",
    "    zoom_range=0.3,\n",
    "    rotation_range=40,\n",
    "    fill_mode='nearest'\n",
    ")\n",
    "\n",
    "train_batches = data_gen.flow_from_directory(\n",
    "    train_dir,\n",
    "    target_size=img_size,\n",
    "    batch_size=batch_size,\n",
    "    class_mode='categorical',\n",
    ")\n",
    "\n",
    "valid_batches = data_gen.flow_from_directory(\n",
    "    val_dir,\n",
    "    target_size=img_size,\n",
    "    batch_size=batch_size,\n",
    "    class_mode='categorical',\n",
    ")\n",
    "\n",
    "test_batches = data_gen.flow_from_directory(\n",
    "    test_dir,\n",
    "    target_size=img_size,\n",
    "    batch_size=batch_size,\n",
    "    class_mode='categorical',\n",
    "    shuffle=False\n",
    ")"
   ]
  },
  {
   "cell_type": "code",
   "execution_count": 8,
   "id": "935c60bb-929e-428f-963f-4ced831f3ed4",
   "metadata": {},
   "outputs": [
    {
     "name": "stdout",
     "output_type": "stream",
     "text": [
      "Class Weights: {0: 0.7144926743931773, 1: 1.6655409710717473}\n"
     ]
    }
   ],
   "source": [
    "class_labels = np.unique(train_batches.classes) \n",
    "class_weights = compute_class_weight(\n",
    "    class_weight='balanced',  \n",
    "    classes=class_labels,\n",
    "    y=train_batches.classes  \n",
    ")\n",
    "class_weights_dict = dict(enumerate(class_weights))\n",
    "print(\"Class Weights:\", class_weights_dict)"
   ]
  },
  {
   "cell_type": "code",
   "execution_count": 9,
   "id": "ac415169-9a3b-4709-af9f-cd5c693d4772",
   "metadata": {},
   "outputs": [],
   "source": [
    "base_model = ResNet50(weights='imagenet', include_top=False, input_shape=(224, 224, 3))"
   ]
  },
  {
   "cell_type": "code",
   "execution_count": 10,
   "id": "b957d0eb-5f43-408a-93c6-5083c9b5d2bc",
   "metadata": {},
   "outputs": [],
   "source": [
    "for layer in base_model.layers:\n",
    "    layer.trainable = False"
   ]
  },
  {
   "cell_type": "code",
   "execution_count": 11,
   "id": "e053d452-07ad-4d79-8a98-2cd92eb23516",
   "metadata": {},
   "outputs": [],
   "source": [
    "model = models.Sequential([\n",
    "    base_model,\n",
    "    layers.GlobalAveragePooling2D(),\n",
    "    Dense(units=128, activation='relu'),\n",
    "    Dropout(0.2),\n",
    "    Dense(units=64, activation='relu'),\n",
    "    Dropout(0.2),\n",
    "    layers.Dense(2, activation='softmax')  \n",
    "])"
   ]
  },
  {
   "cell_type": "code",
   "execution_count": 12,
   "id": "ae79ef6d-0b9b-4a96-8444-a1dd9216d14a",
   "metadata": {},
   "outputs": [
    {
     "name": "stdout",
     "output_type": "stream",
     "text": [
      "Model: \"sequential\"\n",
      "_________________________________________________________________\n",
      " Layer (type)                Output Shape              Param #   \n",
      "=================================================================\n",
      " resnet50 (Functional)       (None, 7, 7, 2048)        23587712  \n",
      "                                                                 \n",
      " global_average_pooling2d (G  (None, 2048)             0         \n",
      " lobalAveragePooling2D)                                          \n",
      "                                                                 \n",
      " dense (Dense)               (None, 128)               262272    \n",
      "                                                                 \n",
      " dropout (Dropout)           (None, 128)               0         \n",
      "                                                                 \n",
      " dense_1 (Dense)             (None, 64)                8256      \n",
      "                                                                 \n",
      " dropout_1 (Dropout)         (None, 64)                0         \n",
      "                                                                 \n",
      " dense_2 (Dense)             (None, 2)                 130       \n",
      "                                                                 \n",
      "=================================================================\n",
      "Total params: 23,858,370\n",
      "Trainable params: 270,658\n",
      "Non-trainable params: 23,587,712\n",
      "_________________________________________________________________\n"
     ]
    }
   ],
   "source": [
    "model.summary()"
   ]
  },
  {
   "cell_type": "code",
   "execution_count": 13,
   "id": "22ed94d6-50ed-4558-a6e3-323d953c5b90",
   "metadata": {},
   "outputs": [],
   "source": [
    "model.compile(optimizer='adam', loss='categorical_crossentropy', metrics=['accuracy'])"
   ]
  },
  {
   "cell_type": "code",
   "execution_count": 15,
   "id": "f7ba8b73-97b8-463e-a4fa-2297fc54aaf5",
   "metadata": {},
   "outputs": [
    {
     "name": "stdout",
     "output_type": "stream",
     "text": [
      "Epoch 1/5\n",
      "  50/1634 [..............................] - ETA: 8:48 - loss: 0.5813 - accuracy: 0.7113"
     ]
    },
    {
     "name": "stderr",
     "output_type": "stream",
     "text": [
      "C:\\Users\\Phattaradanai\\anaconda3\\envs\\tenserflowgpu\\lib\\site-packages\\PIL\\Image.py:1056: UserWarning: Palette images with Transparency expressed in bytes should be converted to RGBA images\n",
      "  warnings.warn(\n"
     ]
    },
    {
     "name": "stdout",
     "output_type": "stream",
     "text": [
      "1634/1634 [==============================] - 792s 480ms/step - loss: 0.3669 - accuracy: 0.8523 - val_loss: 0.3219 - val_accuracy: 0.8730\n",
      "Epoch 2/5\n",
      "1634/1634 [==============================] - 795s 487ms/step - loss: 0.3086 - accuracy: 0.8786 - val_loss: 0.2746 - val_accuracy: 0.8970\n",
      "Epoch 3/5\n",
      "1634/1634 [==============================] - 843s 516ms/step - loss: 0.2872 - accuracy: 0.8902 - val_loss: 0.2740 - val_accuracy: 0.8963\n",
      "Epoch 4/5\n",
      "1634/1634 [==============================] - 811s 496ms/step - loss: 0.2815 - accuracy: 0.8931 - val_loss: 0.2299 - val_accuracy: 0.9101\n",
      "Epoch 5/5\n",
      "1634/1634 [==============================] - 774s 474ms/step - loss: 0.2718 - accuracy: 0.8938 - val_loss: 0.2465 - val_accuracy: 0.9053\n"
     ]
    }
   ],
   "source": [
    "history = model.fit(x=train_batches,\n",
    "    validation_data=valid_batches,\n",
    "    epochs=5,\n",
    "    class_weight=class_weights_dict,\n",
    "    verbose=1,                  \n",
    ")"
   ]
  },
  {
   "cell_type": "code",
   "execution_count": 16,
   "id": "29d0a170-ef48-4933-ac6e-b84d508033b6",
   "metadata": {},
   "outputs": [],
   "source": [
    "history_dict = history.history\n",
    "model_loss = pd.DataFrame(history_dict)"
   ]
  },
  {
   "cell_type": "code",
   "execution_count": 17,
   "id": "bfad9672-d41b-462b-901e-05e19947490b",
   "metadata": {},
   "outputs": [
    {
     "data": {
      "text/html": [
       "<div>\n",
       "<style scoped>\n",
       "    .dataframe tbody tr th:only-of-type {\n",
       "        vertical-align: middle;\n",
       "    }\n",
       "\n",
       "    .dataframe tbody tr th {\n",
       "        vertical-align: top;\n",
       "    }\n",
       "\n",
       "    .dataframe thead th {\n",
       "        text-align: right;\n",
       "    }\n",
       "</style>\n",
       "<table border=\"1\" class=\"dataframe\">\n",
       "  <thead>\n",
       "    <tr style=\"text-align: right;\">\n",
       "      <th></th>\n",
       "      <th>loss</th>\n",
       "      <th>accuracy</th>\n",
       "      <th>val_loss</th>\n",
       "      <th>val_accuracy</th>\n",
       "    </tr>\n",
       "  </thead>\n",
       "  <tbody>\n",
       "    <tr>\n",
       "      <th>0</th>\n",
       "      <td>0.366931</td>\n",
       "      <td>0.852251</td>\n",
       "      <td>0.321894</td>\n",
       "      <td>0.872960</td>\n",
       "    </tr>\n",
       "    <tr>\n",
       "      <th>1</th>\n",
       "      <td>0.308584</td>\n",
       "      <td>0.878572</td>\n",
       "      <td>0.274577</td>\n",
       "      <td>0.897022</td>\n",
       "    </tr>\n",
       "    <tr>\n",
       "      <th>2</th>\n",
       "      <td>0.287209</td>\n",
       "      <td>0.890241</td>\n",
       "      <td>0.274014</td>\n",
       "      <td>0.896349</td>\n",
       "    </tr>\n",
       "    <tr>\n",
       "      <th>3</th>\n",
       "      <td>0.281543</td>\n",
       "      <td>0.893072</td>\n",
       "      <td>0.229892</td>\n",
       "      <td>0.910146</td>\n",
       "    </tr>\n",
       "    <tr>\n",
       "      <th>4</th>\n",
       "      <td>0.271793</td>\n",
       "      <td>0.893760</td>\n",
       "      <td>0.246546</td>\n",
       "      <td>0.905267</td>\n",
       "    </tr>\n",
       "  </tbody>\n",
       "</table>\n",
       "</div>"
      ],
      "text/plain": [
       "       loss  accuracy  val_loss  val_accuracy\n",
       "0  0.366931  0.852251  0.321894      0.872960\n",
       "1  0.308584  0.878572  0.274577      0.897022\n",
       "2  0.287209  0.890241  0.274014      0.896349\n",
       "3  0.281543  0.893072  0.229892      0.910146\n",
       "4  0.271793  0.893760  0.246546      0.905267"
      ]
     },
     "execution_count": 17,
     "metadata": {},
     "output_type": "execute_result"
    }
   ],
   "source": [
    "model_loss"
   ]
  },
  {
   "cell_type": "code",
   "execution_count": 18,
   "id": "7c5471f8-3321-41f3-b4b4-f7efca90f2ff",
   "metadata": {},
   "outputs": [],
   "source": [
    "model_loss.to_csv(\"resnet_finetune_5epoch.csv\", index=False)"
   ]
  },
  {
   "cell_type": "code",
   "execution_count": 19,
   "id": "841b6a88-7082-4d59-9b35-0d2b966835bc",
   "metadata": {},
   "outputs": [
    {
     "data": {
      "image/png": "[encoded data removed]",
      "text/plain": [
       "<Figure size 640x480 with 1 Axes>"
      ]
     },
     "metadata": {},
     "output_type": "display_data"
    }
   ],
   "source": [
    "plt.plot(model_loss['loss'],label = 'train_loss')\n",
    "plt.plot(model_loss['val_loss'],label = 'validation_loss')\n",
    "plt.legend()\n",
    "plt.show() "
   ]
  },
  {
   "cell_type": "code",
   "execution_count": 20,
   "id": "966a3434-88b1-43ed-9bbe-ff087765c1cf",
   "metadata": {},
   "outputs": [
    {
     "data": {
      "image/png": "[encoded data removed]",
      "text/plain": [
       "<Figure size 640x480 with 1 Axes>"
      ]
     },
     "metadata": {},
     "output_type": "display_data"
    }
   ],
   "source": [
    "plt.plot(model_loss['accuracy'],label = 'train_accuracy')\n",
    "plt.plot(model_loss['val_accuracy'],label = 'validation_accuracy')\n",
    "plt.legend()\n",
    "plt.show()"
   ]
  },
  {
   "cell_type": "code",
   "execution_count": 21,
   "id": "df66c93b-138c-46d7-b735-3085451f0b3d",
   "metadata": {},
   "outputs": [
    {
     "name": "stdout",
     "output_type": "stream",
     "text": [
      "116/371 [========>.....................] - ETA: 1:50"
     ]
    },
    {
     "name": "stderr",
     "output_type": "stream",
     "text": [
      "C:\\Users\\Phattaradanai\\anaconda3\\envs\\tenserflowgpu\\lib\\site-packages\\PIL\\Image.py:1056: UserWarning: Palette images with Transparency expressed in bytes should be converted to RGBA images\n",
      "  warnings.warn(\n"
     ]
    },
    {
     "name": "stdout",
     "output_type": "stream",
     "text": [
      "371/371 [==============================] - 151s 403ms/step\n"
     ]
    }
   ],
   "source": [
    "predictions = model.predict(x=test_batches, steps=len(test_batches), verbose=1)"
   ]
  },
  {
   "cell_type": "code",
   "execution_count": 22,
   "id": "dc3427ad-e4c4-40df-a3e3-18d0c12f1c7c",
   "metadata": {},
   "outputs": [
    {
     "name": "stdout",
     "output_type": "stream",
     "text": [
      "              precision    recall  f1-score   support\n",
      "\n",
      "           0       0.93      0.93      0.93      4153\n",
      "           1       0.85      0.85      0.85      1781\n",
      "\n",
      "    accuracy                           0.91      5934\n",
      "   macro avg       0.89      0.89      0.89      5934\n",
      "weighted avg       0.91      0.91      0.91      5934\n",
      "\n"
     ]
    }
   ],
   "source": [
    "print(classification_report(test_batches.classes,np.argmax(predictions, axis = -1)))"
   ]
  },
  {
   "cell_type": "markdown",
   "id": "2da83c92-2ccb-4edf-8a83-11e7acca98c6",
   "metadata": {},
   "source": [
    "## Test with image from internet"
   ]
  },
  {
   "cell_type": "code",
   "execution_count": 24,
   "id": "c5411b05-e7f5-4a8d-be0e-eeb04fccf543",
   "metadata": {},
   "outputs": [],
   "source": [
    "test2_dir = 'data/test2/'"
   ]
  },
  {
   "cell_type": "code",
   "execution_count": 26,
   "id": "9f9fbe47-846e-4926-90be-ed913fa119b0",
   "metadata": {},
   "outputs": [
    {
     "name": "stdout",
     "output_type": "stream",
     "text": [
      "Found 40 images belonging to 2 classes.\n"
     ]
    }
   ],
   "source": [
    "test_batches2 = data_gen.flow_from_directory(\n",
    "    test2_dir,\n",
    "    target_size=img_size,\n",
    "    batch_size=batch_size,\n",
    "    class_mode='categorical',\n",
    "    shuffle=False\n",
    ")"
   ]
  },
  {
   "cell_type": "code",
   "execution_count": 27,
   "id": "4ec7cb42-c97d-42d6-b63e-8e8bdeba35d5",
   "metadata": {},
   "outputs": [
    {
     "name": "stderr",
     "output_type": "stream",
     "text": [
      "C:\\Users\\Phattaradanai\\anaconda3\\envs\\tenserflowgpu\\lib\\site-packages\\PIL\\Image.py:1056: UserWarning: Palette images with Transparency expressed in bytes should be converted to RGBA images\n",
      "  warnings.warn(\n"
     ]
    },
    {
     "name": "stdout",
     "output_type": "stream",
     "text": [
      "3/3 [==============================] - 2s 612ms/step\n"
     ]
    }
   ],
   "source": [
    "predictions = model.predict(x=test_batches2, steps=len(test_batches2), verbose=1)"
   ]
  },
  {
   "cell_type": "code",
   "execution_count": 28,
   "id": "95659a73-2bbc-43c9-9ff7-04c53c4476ed",
   "metadata": {},
   "outputs": [
    {
     "name": "stdout",
     "output_type": "stream",
     "text": [
      "              precision    recall  f1-score   support\n",
      "\n",
      "           0       0.79      0.95      0.86        20\n",
      "           1       0.94      0.75      0.83        20\n",
      "\n",
      "    accuracy                           0.85        40\n",
      "   macro avg       0.86      0.85      0.85        40\n",
      "weighted avg       0.86      0.85      0.85        40\n",
      "\n"
     ]
    }
   ],
   "source": [
    "print(classification_report(test_batches2.classes,np.argmax(predictions, axis = -1)))"
   ]
  },
  {
   "cell_type": "code",
   "execution_count": 23,
   "id": "2bfe0a4e-a964-493b-8c80-9859582b3931",
   "metadata": {},
   "outputs": [],
   "source": [
    "model.save('modelresnetfinetune5epoch.h5')"
   ]
  }
 ],
 "metadata": {
  "kernelspec": {
   "display_name": "Python 3 (ipykernel)",
   "language": "python",
   "name": "python3"
  },
  "language_info": {
   "codemirror_mode": {
    "name": "ipython",
    "version": 3
   },
   "file_extension": ".py",
   "mimetype": "text/x-python",
   "name": "python",
   "nbconvert_exporter": "python",
   "pygments_lexer": "ipython3",
   "version": "3.10.14"
  }
 },
 "nbformat": 4,
 "nbformat_minor": 5
}
