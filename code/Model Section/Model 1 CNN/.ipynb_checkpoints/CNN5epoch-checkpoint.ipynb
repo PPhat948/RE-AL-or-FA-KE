{
 "cells": [
  {
   "cell_type": "code",
   "execution_count": 15,
   "id": "98f40f45-d5b5-480a-98aa-42fdf79e21bb",
   "metadata": {},
   "outputs": [],
   "source": [
    "import numpy as np\n",
    "import pandas as pd\n",
    "import tensorflow as tf\n",
    "from tensorflow import keras\n",
    "from tensorflow.keras import layers, models\n",
    "from tensorflow.keras.models import Sequential\n",
    "from tensorflow.keras.layers import Activation, Dense, Flatten, BatchNormalization, Conv2D, MaxPool2D , Dropout\n",
    "from tensorflow.keras.optimizers import Adam\n",
    "from tensorflow.keras.metrics import categorical_crossentropy\n",
    "from tensorflow.keras.preprocessing.image import ImageDataGenerator\n",
    "from tensorflow.keras.applications.resnet50 import preprocess_input\n",
    "from tensorflow.keras.callbacks import EarlyStopping\n",
    "from sklearn.metrics import classification_report,confusion_matrix\n",
    "from sklearn.utils.class_weight import compute_class_weight\n",
    "import itertools\n",
    "import os\n",
    "import matplotlib.pyplot as plt\n",
    "import cv2\n",
    "import random\n",
    "import shutil\n",
    "import requests\n",
    "from sklearn.model_selection import train_test_split\n",
    "%matplotlib inline"
   ]
  },
  {
   "cell_type": "code",
   "execution_count": 16,
   "id": "9475aec0-197e-407f-940d-80646531e06d",
   "metadata": {},
   "outputs": [],
   "source": [
    "real_path = 'data/real'\n",
    "fake_path = 'data/fake'\n"
   ]
  },
  {
   "cell_type": "code",
   "execution_count": 17,
   "id": "c2acb811-fb62-4c60-9168-b18465216275",
   "metadata": {},
   "outputs": [],
   "source": [
    "base_dir = '/data'\n",
    "train_dir = os.path.join(base_dir, 'train')\n",
    "val_dir = os.path.join(base_dir, 'validation')\n",
    "test_dir = os.path.join(base_dir, 'test')\n",
    "\n",
    "for directory in [train_dir, val_dir, test_dir]:\n",
    "    os.makedirs(os.path.join(directory, 'real'), exist_ok=True)\n",
    "    os.makedirs(os.path.join(directory, 'fake'), exist_ok=True)"
   ]
  },
  {
   "cell_type": "code",
   "execution_count": null,
   "id": "f6a3a10c-5924-4ad9-a883-770d62c47b15",
   "metadata": {},
   "outputs": [],
   "source": [
    "split_data(real_path, os.path.join(train_dir, 'real'), os.path.join(val_dir, 'real'), os.path.join(test_dir, 'real'))\n",
    "split_data(fake_path, os.path.join(train_dir, 'fake'), os.path.join(val_dir, 'fake'), os.path.join(test_dir, 'fake'))"
   ]
  },
  {
   "cell_type": "code",
   "execution_count": 18,
   "id": "9783565e-2409-45e2-96dc-dabe04e36eb5",
   "metadata": {},
   "outputs": [
    {
     "name": "stdout",
     "output_type": "stream",
     "text": [
      "Found 26139 images belonging to 2 classes.\n",
      "Found 5943 images belonging to 2 classes.\n",
      "Found 5934 images belonging to 2 classes.\n"
     ]
    }
   ],
   "source": [
    "batch_size = 16\n",
    "img_size = (224, 224)\n",
    "\n",
    "data_gen = ImageDataGenerator(\n",
    "    preprocessing_function=preprocess_input,\n",
    "    horizontal_flip=True,\n",
    "    vertical_flip=True,\n",
    "    brightness_range=[0.4,1.5],\n",
    "    zoom_range=0.3,\n",
    "    rotation_range=40,\n",
    "    fill_mode='nearest'\n",
    ")\n",
    "\n",
    "train_batches = data_gen.flow_from_directory(\n",
    "    train_dir,\n",
    "    target_size=img_size,\n",
    "    batch_size=batch_size,\n",
    "    class_mode='categorical',\n",
    ")\n",
    "\n",
    "valid_batches = data_gen.flow_from_directory(\n",
    "    val_dir,\n",
    "    target_size=img_size,\n",
    "    batch_size=batch_size,\n",
    "    class_mode='categorical',\n",
    ")\n",
    "\n",
    "test_batches = data_gen.flow_from_directory(\n",
    "    test_dir,\n",
    "    target_size=img_size,\n",
    "    batch_size=batch_size,\n",
    "    class_mode='categorical',\n",
    "    shuffle=False\n",
    ")"
   ]
  },
  {
   "cell_type": "code",
   "execution_count": 7,
   "id": "4e307cbf-254b-41ee-9c45-8d8e0585cc3c",
   "metadata": {},
   "outputs": [
    {
     "name": "stdout",
     "output_type": "stream",
     "text": [
      "Class Weights: {0: 0.7144926743931773, 1: 1.6655409710717473}\n"
     ]
    }
   ],
   "source": [
    "class_labels = np.unique(train_batches.classes)  \n",
    "class_weights = compute_class_weight(\n",
    "    class_weight='balanced', \n",
    "    classes=class_labels,\n",
    "    y=train_batches.classes  \n",
    ")\n",
    "class_weights_dict = dict(enumerate(class_weights))\n",
    "print(\"Class Weights:\", class_weights_dict)"
   ]
  },
  {
   "cell_type": "code",
   "execution_count": 8,
   "id": "610f4ce5-14ed-47f0-a4a1-37c05523956f",
   "metadata": {},
   "outputs": [],
   "source": [
    "model = Sequential([\n",
    "    Conv2D(filters=64, kernel_size=(3, 3), activation='relu', padding = 'same', input_shape=(224,224,3)),\n",
    "    MaxPool2D(),\n",
    "    Conv2D(filters=128, kernel_size=(3, 3), activation='relu', padding = 'same'),\n",
    "    Conv2D(filters=128, kernel_size=(3, 3), activation='relu', padding = 'same'),\n",
    "    MaxPool2D(),\n",
    "    Conv2D(filters=256, kernel_size=(3, 3), activation='relu', padding = 'same'),\n",
    "    Conv2D(filters=256, kernel_size=(3, 3), activation='relu', padding = 'same'),\n",
    "    MaxPool2D(),\n",
    "    layers.GlobalAveragePooling2D(),\n",
    "    Dense(units=128, activation='relu'),\n",
    "    Dropout(0.2),\n",
    "    Dense(units=64, activation='relu'),\n",
    "    Dropout(0.2),\n",
    "    Dense(units=2, activation='softmax')\n",
    "])"
   ]
  },
  {
   "cell_type": "code",
   "execution_count": 9,
   "id": "17dde823-f7c7-4f73-aa93-ee537b83eaa6",
   "metadata": {},
   "outputs": [
    {
     "name": "stdout",
     "output_type": "stream",
     "text": [
      "Model: \"sequential\"\n",
      "_________________________________________________________________\n",
      " Layer (type)                Output Shape              Param #   \n",
      "=================================================================\n",
      " conv2d (Conv2D)             (None, 224, 224, 64)      1792      \n",
      "                                                                 \n",
      " max_pooling2d (MaxPooling2D  (None, 112, 112, 64)     0         \n",
      " )                                                               \n",
      "                                                                 \n",
      " conv2d_1 (Conv2D)           (None, 112, 112, 128)     73856     \n",
      "                                                                 \n",
      " conv2d_2 (Conv2D)           (None, 112, 112, 128)     147584    \n",
      "                                                                 \n",
      " max_pooling2d_1 (MaxPooling  (None, 56, 56, 128)      0         \n",
      " 2D)                                                             \n",
      "                                                                 \n",
      " conv2d_3 (Conv2D)           (None, 56, 56, 256)       295168    \n",
      "                                                                 \n",
      " conv2d_4 (Conv2D)           (None, 56, 56, 256)       590080    \n",
      "                                                                 \n",
      " max_pooling2d_2 (MaxPooling  (None, 28, 28, 256)      0         \n",
      " 2D)                                                             \n",
      "                                                                 \n",
      " global_average_pooling2d (G  (None, 256)              0         \n",
      " lobalAveragePooling2D)                                          \n",
      "                                                                 \n",
      " dense (Dense)               (None, 128)               32896     \n",
      "                                                                 \n",
      " dropout (Dropout)           (None, 128)               0         \n",
      "                                                                 \n",
      " dense_1 (Dense)             (None, 64)                8256      \n",
      "                                                                 \n",
      " dropout_1 (Dropout)         (None, 64)                0         \n",
      "                                                                 \n",
      " dense_2 (Dense)             (None, 2)                 130       \n",
      "                                                                 \n",
      "=================================================================\n",
      "Total params: 1,149,762\n",
      "Trainable params: 1,149,762\n",
      "Non-trainable params: 0\n",
      "_________________________________________________________________\n"
     ]
    }
   ],
   "source": [
    "model.summary()"
   ]
  },
  {
   "cell_type": "code",
   "execution_count": 10,
   "id": "625e9e60-65fd-4ab2-84f8-e3344312f4c6",
   "metadata": {},
   "outputs": [],
   "source": [
    "model.compile(optimizer='adam', loss='categorical_crossentropy', metrics=['accuracy'])"
   ]
  },
  {
   "cell_type": "code",
   "execution_count": 11,
   "id": "e0c9a624-6a9a-4721-ac8f-cce6ebd97414",
   "metadata": {},
   "outputs": [
    {
     "name": "stdout",
     "output_type": "stream",
     "text": [
      "Epoch 1/5\n",
      "  59/1634 [>.............................] - ETA: 7:55 - loss: 1.0328 - accuracy: 0.5138"
     ]
    },
    {
     "name": "stderr",
     "output_type": "stream",
     "text": [
      "C:\\Users\\Phattaradanai\\anaconda3\\envs\\tenserflowgpu\\lib\\site-packages\\PIL\\Image.py:1056: UserWarning: Palette images with Transparency expressed in bytes should be converted to RGBA images\n",
      "  warnings.warn(\n"
     ]
    },
    {
     "name": "stdout",
     "output_type": "stream",
     "text": [
      "1634/1634 [==============================] - 805s 471ms/step - loss: 0.6942 - accuracy: 0.5529 - val_loss: 0.6563 - val_accuracy: 0.6450\n",
      "Epoch 2/5\n",
      "1634/1634 [==============================] - 747s 457ms/step - loss: 0.5923 - accuracy: 0.7033 - val_loss: 0.5303 - val_accuracy: 0.7892\n",
      "Epoch 3/5\n",
      "1634/1634 [==============================] - 685s 419ms/step - loss: 0.5153 - accuracy: 0.7767 - val_loss: 0.4890 - val_accuracy: 0.7945\n",
      "Epoch 4/5\n",
      "1634/1634 [==============================] - 728s 446ms/step - loss: 0.4905 - accuracy: 0.7944 - val_loss: 0.5421 - val_accuracy: 0.7459\n",
      "Epoch 5/5\n",
      "1634/1634 [==============================] - 755s 462ms/step - loss: 0.4733 - accuracy: 0.8024 - val_loss: 0.5022 - val_accuracy: 0.7829\n"
     ]
    }
   ],
   "source": [
    "history = model.fit(x=train_batches,\n",
    "    validation_data=valid_batches,\n",
    "    epochs=5,\n",
    "    class_weight=class_weights_dict,\n",
    "    verbose=1,\n",
    ")"
   ]
  },
  {
   "cell_type": "code",
   "execution_count": 12,
   "id": "7a23427b-02a2-4ef5-acd5-47f9be4e039a",
   "metadata": {},
   "outputs": [],
   "source": [
    "history_dict = history.history\n",
    "model_loss = pd.DataFrame(history_dict)"
   ]
  },
  {
   "cell_type": "code",
   "execution_count": 13,
   "id": "29322e7a-6bc2-46a2-bffd-70f65fde7711",
   "metadata": {},
   "outputs": [
    {
     "data": {
      "text/html": [
       "<div>\n",
       "<style scoped>\n",
       "    .dataframe tbody tr th:only-of-type {\n",
       "        vertical-align: middle;\n",
       "    }\n",
       "\n",
       "    .dataframe tbody tr th {\n",
       "        vertical-align: top;\n",
       "    }\n",
       "\n",
       "    .dataframe thead th {\n",
       "        text-align: right;\n",
       "    }\n",
       "</style>\n",
       "<table border=\"1\" class=\"dataframe\">\n",
       "  <thead>\n",
       "    <tr style=\"text-align: right;\">\n",
       "      <th></th>\n",
       "      <th>loss</th>\n",
       "      <th>accuracy</th>\n",
       "      <th>val_loss</th>\n",
       "      <th>val_accuracy</th>\n",
       "    </tr>\n",
       "  </thead>\n",
       "  <tbody>\n",
       "    <tr>\n",
       "      <th>0</th>\n",
       "      <td>0.694229</td>\n",
       "      <td>0.552852</td>\n",
       "      <td>0.656276</td>\n",
       "      <td>0.644960</td>\n",
       "    </tr>\n",
       "    <tr>\n",
       "      <th>1</th>\n",
       "      <td>0.592310</td>\n",
       "      <td>0.703279</td>\n",
       "      <td>0.530266</td>\n",
       "      <td>0.789164</td>\n",
       "    </tr>\n",
       "    <tr>\n",
       "      <th>2</th>\n",
       "      <td>0.515308</td>\n",
       "      <td>0.776656</td>\n",
       "      <td>0.488951</td>\n",
       "      <td>0.794548</td>\n",
       "    </tr>\n",
       "    <tr>\n",
       "      <th>3</th>\n",
       "      <td>0.490537</td>\n",
       "      <td>0.794369</td>\n",
       "      <td>0.542080</td>\n",
       "      <td>0.745920</td>\n",
       "    </tr>\n",
       "    <tr>\n",
       "      <th>4</th>\n",
       "      <td>0.473285</td>\n",
       "      <td>0.802441</td>\n",
       "      <td>0.502169</td>\n",
       "      <td>0.782938</td>\n",
       "    </tr>\n",
       "  </tbody>\n",
       "</table>\n",
       "</div>"
      ],
      "text/plain": [
       "       loss  accuracy  val_loss  val_accuracy\n",
       "0  0.694229  0.552852  0.656276      0.644960\n",
       "1  0.592310  0.703279  0.530266      0.789164\n",
       "2  0.515308  0.776656  0.488951      0.794548\n",
       "3  0.490537  0.794369  0.542080      0.745920\n",
       "4  0.473285  0.802441  0.502169      0.782938"
      ]
     },
     "execution_count": 13,
     "metadata": {},
     "output_type": "execute_result"
    }
   ],
   "source": [
    "model_loss"
   ]
  },
  {
   "cell_type": "code",
   "execution_count": 15,
   "id": "1d80b98d-1c7c-4b7f-a154-c3fb979a3855",
   "metadata": {},
   "outputs": [
    {
     "data": {
      "image/png": "[encoded data removed]",
      "text/plain": [
       "<Figure size 640x480 with 1 Axes>"
      ]
     },
     "metadata": {},
     "output_type": "display_data"
    }
   ],
   "source": [
    "plt.plot(model_loss['loss'],label = 'train_loss')\n",
    "plt.plot(model_loss['val_loss'],label = 'validation_loss')\n",
    "plt.legend()\n",
    "plt.show() "
   ]
  },
  {
   "cell_type": "code",
   "execution_count": 16,
   "id": "eb75d692-cd44-4791-8899-fafd62758057",
   "metadata": {},
   "outputs": [
    {
     "data": {
      "image/png": "[encoded data removed]",
      "text/plain": [
       "<Figure size 640x480 with 1 Axes>"
      ]
     },
     "metadata": {},
     "output_type": "display_data"
    }
   ],
   "source": [
    "plt.plot(model_loss['accuracy'],label = 'train_accuracy')\n",
    "plt.plot(model_loss['val_accuracy'],label = 'validation_accuracy')\n",
    "plt.legend()\n",
    "plt.show()"
   ]
  },
  {
   "cell_type": "code",
   "execution_count": 17,
   "id": "0a6b3887-84d9-44cb-80c7-b478286fe739",
   "metadata": {},
   "outputs": [
    {
     "name": "stdout",
     "output_type": "stream",
     "text": [
      "116/371 [========>.....................] - ETA: 1:55"
     ]
    },
    {
     "name": "stderr",
     "output_type": "stream",
     "text": [
      "C:\\Users\\Phattaradanai\\anaconda3\\envs\\tenserflowgpu\\lib\\site-packages\\PIL\\Image.py:1056: UserWarning: Palette images with Transparency expressed in bytes should be converted to RGBA images\n",
      "  warnings.warn(\n"
     ]
    },
    {
     "name": "stdout",
     "output_type": "stream",
     "text": [
      "371/371 [==============================] - 156s 419ms/step\n"
     ]
    }
   ],
   "source": [
    "predictions = model.predict(x=test_batches, steps=len(test_batches), verbose=1)"
   ]
  },
  {
   "cell_type": "code",
   "execution_count": 18,
   "id": "3f60cd62-96a3-4ba4-868f-1fa9836377b2",
   "metadata": {},
   "outputs": [
    {
     "name": "stdout",
     "output_type": "stream",
     "text": [
      "              precision    recall  f1-score   support\n",
      "\n",
      "           0       0.93      0.75      0.83      4153\n",
      "           1       0.59      0.86      0.70      1781\n",
      "\n",
      "    accuracy                           0.78      5934\n",
      "   macro avg       0.76      0.80      0.76      5934\n",
      "weighted avg       0.83      0.78      0.79      5934\n",
      "\n"
     ]
    }
   ],
   "source": [
    "print(classification_report(test_batches.classes,np.argmax(predictions, axis = -1)))"
   ]
  },
  {
   "cell_type": "code",
   "execution_count": 12,
   "id": "366866fa-9a8b-4605-aa33-19fcf8a84b3f",
   "metadata": {},
   "outputs": [
    {
     "name": "stdout",
     "output_type": "stream",
     "text": [
      "Found 40 images belonging to 2 classes.\n"
     ]
    }
   ],
   "source": [
    "test2_dir = 'data/test2/'\n",
    "\n",
    "test_batches2 = data_gen.flow_from_directory(\n",
    "    test2_dir,\n",
    "    target_size=img_size\n",
    "    batch_size=batch_size,\n",
    "    class_mode='categorical',\n",
    "    shuffle=False\n",
    ")"
   ]
  },
  {
   "cell_type": "code",
   "execution_count": 22,
   "id": "2f898bf9-c16a-4488-920d-f232cb9e798d",
   "metadata": {},
   "outputs": [
    {
     "name": "stderr",
     "output_type": "stream",
     "text": [
      "C:\\Users\\Phattaradanai\\anaconda3\\envs\\tenserflowgpu\\lib\\site-packages\\PIL\\Image.py:1056: UserWarning: Palette images with Transparency expressed in bytes should be converted to RGBA images\n",
      "  warnings.warn(\n"
     ]
    },
    {
     "name": "stdout",
     "output_type": "stream",
     "text": [
      "3/3 [==============================] - 2s 459ms/step\n"
     ]
    }
   ],
   "source": [
    "predictions = model.predict(x=test_batches2, steps=len(test_batches2), verbose=1)"
   ]
  },
  {
   "cell_type": "code",
   "execution_count": 23,
   "id": "4bd38e91-3687-4a20-a7d0-4c307ab7921f",
   "metadata": {},
   "outputs": [
    {
     "name": "stdout",
     "output_type": "stream",
     "text": [
      "              precision    recall  f1-score   support\n",
      "\n",
      "           0       0.53      0.85      0.65        20\n",
      "           1       0.62      0.25      0.36        20\n",
      "\n",
      "    accuracy                           0.55        40\n",
      "   macro avg       0.58      0.55      0.51        40\n",
      "weighted avg       0.58      0.55      0.51        40\n",
      "\n"
     ]
    }
   ],
   "source": [
    "print(classification_report(test_batches2.classes,np.argmax(predictions, axis = -1)))"
   ]
  },
  {
   "cell_type": "code",
   "execution_count": 19,
   "id": "637f3d95-3674-4108-8745-cd1d3eb0d33f",
   "metadata": {},
   "outputs": [],
   "source": [
    "model.save('modelcnn5epoch.h5')"
   ]
  }
 ],
 "metadata": {
  "kernelspec": {
   "display_name": "Python 3 (ipykernel)",
   "language": "python",
   "name": "python3"
  },
  "language_info": {
   "codemirror_mode": {
    "name": "ipython",
    "version": 3
   },
   "file_extension": ".py",
   "mimetype": "text/x-python",
   "name": "python",
   "nbconvert_exporter": "python",
   "pygments_lexer": "ipython3",
   "version": "3.10.14"
  }
 },
 "nbformat": 4,
 "nbformat_minor": 5
}
