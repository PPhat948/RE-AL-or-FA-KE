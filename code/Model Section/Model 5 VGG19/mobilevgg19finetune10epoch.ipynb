{
 "cells": [
  {
   "cell_type": "code",
   "execution_count": 1,
   "id": "448ebe59-3004-4900-940d-a904f755f62b",
   "metadata": {},
   "outputs": [],
   "source": [
    "import numpy as np\n",
    "import pandas as pd\n",
    "import tensorflow as tf\n",
    "from tensorflow import keras\n",
    "from tensorflow.keras import layers, models\n",
    "from tensorflow.keras.models import Sequential\n",
    "from tensorflow.keras.layers import Activation, Dense, Flatten, BatchNormalization, Conv2D, MaxPool2D , Dropout\n",
    "from tensorflow.keras.optimizers import Adam\n",
    "from tensorflow.keras.metrics import categorical_crossentropy\n",
    "from tensorflow.keras.preprocessing.image import ImageDataGenerator\n",
    "from tensorflow.keras.applications import VGG19\n",
    "from tensorflow.keras.applications.vgg19 import preprocess_input\n",
    "from tensorflow.keras.callbacks import EarlyStopping\n",
    "from sklearn.metrics import classification_report,confusion_matrix\n",
    "from sklearn.utils.class_weight import compute_class_weight\n",
    "import itertools\n",
    "import os\n",
    "import matplotlib.pyplot as plt\n",
    "import cv2\n",
    "import random\n",
    "import shutil\n",
    "import requests\n",
    "from sklearn.model_selection import train_test_split\n",
    "%matplotlib inline"
   ]
  },
  {
   "cell_type": "code",
   "execution_count": 2,
   "id": "70ed6d0b-e4cf-4b07-acaa-1ec82707c46e",
   "metadata": {},
   "outputs": [],
   "source": [
    "real_path = 'data/real'\n",
    "fake_path = 'data/fake'\n"
   ]
  },
  {
   "cell_type": "code",
   "execution_count": 3,
   "id": "2b5b7ec6-4684-4907-ab46-088063be4004",
   "metadata": {},
   "outputs": [],
   "source": [
    "base_dir = '/data'\n",
    "train_dir = os.path.join(base_dir, 'train')\n",
    "val_dir = os.path.join(base_dir, 'validation')\n",
    "test_dir = os.path.join(base_dir, 'test')\n",
    "\n",
    "for directory in [train_dir, val_dir, test_dir]:\n",
    "    os.makedirs(os.path.join(directory, 'real'), exist_ok=True)\n",
    "    os.makedirs(os.path.join(directory, 'fake'), exist_ok=True)"
   ]
  },
  {
   "cell_type": "code",
   "execution_count": 4,
   "id": "e1f9ccf6-4f89-4e76-b54e-7feedf76cbf2",
   "metadata": {},
   "outputs": [],
   "source": [
    "def split_data(SOURCE, TRAINING, VALIDATION, TEST, split_size=0.7, val_size=0.15):\n",
    "    files = [f for f in os.listdir(SOURCE) if os.path.isfile(os.path.join(SOURCE, f))]\n",
    "    \n",
    "    train_files, test_files = train_test_split(files, test_size=1-split_size, random_state=42)\n",
    "    val_files, test_files = train_test_split(test_files, test_size=1 - val_size / (1 - split_size), random_state=42)\n",
    "\n",
    "    for file_name in train_files:\n",
    "        shutil.copy(os.path.join(SOURCE, file_name), os.path.join(TRAINING, file_name))\n",
    "    for file_name in val_files:\n",
    "        shutil.copy(os.path.join(SOURCE, file_name), os.path.join(VALIDATION, file_name))\n",
    "    for file_name in test_files:\n",
    "        shutil.copy(os.path.join(SOURCE, file_name), os.path.join(TEST, file_name))\n"
   ]
  },
  {
   "cell_type": "code",
   "execution_count": 5,
   "id": "13ab47da-cfaf-4259-8d02-7138eed350e1",
   "metadata": {},
   "outputs": [],
   "source": [
    "split_data(real_path, os.path.join(train_dir, 'real'), os.path.join(val_dir, 'real'), os.path.join(test_dir, 'real'))\n",
    "split_data(fake_path, os.path.join(train_dir, 'fake'), os.path.join(val_dir, 'fake'), os.path.join(test_dir, 'fake'))"
   ]
  },
  {
   "cell_type": "code",
   "execution_count": 6,
   "id": "d66d728d-17c8-4a1c-90e3-094819356372",
   "metadata": {},
   "outputs": [
    {
     "name": "stdout",
     "output_type": "stream",
     "text": [
      "Found 26139 images belonging to 2 classes.\n",
      "Found 5943 images belonging to 2 classes.\n",
      "Found 5934 images belonging to 2 classes.\n"
     ]
    }
   ],
   "source": [
    "batch_size = 16\n",
    "img_size = (224, 224)\n",
    "\n",
    "data_gen = ImageDataGenerator(\n",
    "    preprocessing_function=preprocess_input,\n",
    "    horizontal_flip=True,\n",
    "    vertical_flip=True,\n",
    "    brightness_range=[0.4,1.5],\n",
    "    zoom_range=0.3,\n",
    "    rotation_range=40,\n",
    "    fill_mode='nearest'\n",
    ")\n",
    "\n",
    "train_batches = data_gen.flow_from_directory(\n",
    "    train_dir,\n",
    "    target_size=img_size,\n",
    "    batch_size=batch_size,\n",
    "    class_mode='categorical',\n",
    ")\n",
    "\n",
    "valid_batches = data_gen.flow_from_directory(\n",
    "    val_dir,\n",
    "    target_size=img_size,\n",
    "    batch_size=batch_size,\n",
    "    class_mode='categorical',\n",
    ")\n",
    "\n",
    "test_batches = data_gen.flow_from_directory(\n",
    "    test_dir,\n",
    "    target_size=img_size,\n",
    "    batch_size=batch_size,\n",
    "    class_mode='categorical',\n",
    "    shuffle=False\n",
    ")"
   ]
  },
  {
   "cell_type": "code",
   "execution_count": 7,
   "id": "8a11626b-8350-491b-b2df-6ac4cf40d2d4",
   "metadata": {},
   "outputs": [
    {
     "name": "stdout",
     "output_type": "stream",
     "text": [
      "Class Weights: {0: 0.7144926743931773, 1: 1.6655409710717473}\n"
     ]
    }
   ],
   "source": [
    "class_labels = np.unique(train_batches.classes) \n",
    "class_weights = compute_class_weight(\n",
    "    class_weight='balanced', \n",
    "    classes=class_labels,\n",
    "    y=train_batches.classes \n",
    ")\n",
    "class_weights_dict = dict(enumerate(class_weights))\n",
    "print(\"Class Weights:\", class_weights_dict)"
   ]
  },
  {
   "cell_type": "code",
   "execution_count": 8,
   "id": "ac415169-9a3b-4709-af9f-cd5c693d4772",
   "metadata": {},
   "outputs": [],
   "source": [
    "base_model = VGG19(weights='imagenet', include_top=False, input_shape=(224, 224, 3))"
   ]
  },
  {
   "cell_type": "code",
   "execution_count": 9,
   "id": "b957d0eb-5f43-408a-93c6-5083c9b5d2bc",
   "metadata": {},
   "outputs": [],
   "source": [
    "for layer in base_model.layers:\n",
    "    layer.trainable = False"
   ]
  },
  {
   "cell_type": "code",
   "execution_count": 10,
   "id": "e053d452-07ad-4d79-8a98-2cd92eb23516",
   "metadata": {},
   "outputs": [],
   "source": [
    "model = models.Sequential([\n",
    "    base_model,\n",
    "    layers.GlobalAveragePooling2D(),\n",
    "    Dense(units=128, activation='relu'),\n",
    "    Dropout(0.2),\n",
    "    Dense(units=64, activation='relu'),\n",
    "    Dropout(0.2),\n",
    "    layers.Dense(2, activation='softmax') \n",
    "])"
   ]
  },
  {
   "cell_type": "code",
   "execution_count": 11,
   "id": "ae79ef6d-0b9b-4a96-8444-a1dd9216d14a",
   "metadata": {},
   "outputs": [
    {
     "name": "stdout",
     "output_type": "stream",
     "text": [
      "Model: \"sequential\"\n",
      "_________________________________________________________________\n",
      " Layer (type)                Output Shape              Param #   \n",
      "=================================================================\n",
      " vgg19 (Functional)          (None, 7, 7, 512)         20024384  \n",
      "                                                                 \n",
      " global_average_pooling2d (G  (None, 512)              0         \n",
      " lobalAveragePooling2D)                                          \n",
      "                                                                 \n",
      " dense (Dense)               (None, 128)               65664     \n",
      "                                                                 \n",
      " dropout (Dropout)           (None, 128)               0         \n",
      "                                                                 \n",
      " dense_1 (Dense)             (None, 64)                8256      \n",
      "                                                                 \n",
      " dropout_1 (Dropout)         (None, 64)                0         \n",
      "                                                                 \n",
      " dense_2 (Dense)             (None, 2)                 130       \n",
      "                                                                 \n",
      "=================================================================\n",
      "Total params: 20,098,434\n",
      "Trainable params: 74,050\n",
      "Non-trainable params: 20,024,384\n",
      "_________________________________________________________________\n"
     ]
    }
   ],
   "source": [
    "model.summary()"
   ]
  },
  {
   "cell_type": "code",
   "execution_count": 12,
   "id": "22ed94d6-50ed-4558-a6e3-323d953c5b90",
   "metadata": {},
   "outputs": [],
   "source": [
    "model.compile(optimizer='adam', loss='categorical_crossentropy', metrics=['accuracy'])"
   ]
  },
  {
   "cell_type": "code",
   "execution_count": 14,
   "id": "f7ba8b73-97b8-463e-a4fa-2297fc54aaf5",
   "metadata": {},
   "outputs": [
    {
     "name": "stdout",
     "output_type": "stream",
     "text": [
      "Epoch 1/10\n",
      "  66/1634 [>.............................] - ETA: 8:08 - loss: 1.1884 - accuracy: 0.6089"
     ]
    },
    {
     "name": "stderr",
     "output_type": "stream",
     "text": [
      "C:\\Users\\Phattaradanai\\anaconda3\\envs\\tenserflowgpu\\lib\\site-packages\\PIL\\Image.py:1056: UserWarning: Palette images with Transparency expressed in bytes should be converted to RGBA images\n",
      "  warnings.warn(\n"
     ]
    },
    {
     "name": "stdout",
     "output_type": "stream",
     "text": [
      "1634/1634 [==============================] - 784s 473ms/step - loss: 0.5540 - accuracy: 0.7630 - val_loss: 0.4150 - val_accuracy: 0.8240\n",
      "Epoch 2/10\n",
      "1634/1634 [==============================] - 705s 431ms/step - loss: 0.4355 - accuracy: 0.8141 - val_loss: 0.3565 - val_accuracy: 0.8600\n",
      "Epoch 3/10\n",
      "1634/1634 [==============================] - 613s 375ms/step - loss: 0.4188 - accuracy: 0.8249 - val_loss: 0.3989 - val_accuracy: 0.8287\n",
      "Epoch 4/10\n",
      "1634/1634 [==============================] - 607s 371ms/step - loss: 0.4039 - accuracy: 0.8260 - val_loss: 0.3502 - val_accuracy: 0.8538\n",
      "Epoch 5/10\n",
      "1634/1634 [==============================] - 733s 449ms/step - loss: 0.3897 - accuracy: 0.8334 - val_loss: 0.3242 - val_accuracy: 0.8635\n",
      "Epoch 6/10\n",
      "1634/1634 [==============================] - 749s 458ms/step - loss: 0.3871 - accuracy: 0.8341 - val_loss: 0.3897 - val_accuracy: 0.8243\n",
      "Epoch 7/10\n",
      "1634/1634 [==============================] - 621s 380ms/step - loss: 0.3751 - accuracy: 0.8401 - val_loss: 0.3481 - val_accuracy: 0.8578\n",
      "Epoch 8/10\n",
      "1634/1634 [==============================] - 617s 377ms/step - loss: 0.3703 - accuracy: 0.8422 - val_loss: 0.3285 - val_accuracy: 0.8565\n",
      "Epoch 9/10\n",
      "1634/1634 [==============================] - 619s 379ms/step - loss: 0.3696 - accuracy: 0.8424 - val_loss: 0.3421 - val_accuracy: 0.8558\n",
      "Epoch 10/10\n",
      "1634/1634 [==============================] - 620s 380ms/step - loss: 0.3600 - accuracy: 0.8501 - val_loss: 0.3244 - val_accuracy: 0.8688\n"
     ]
    }
   ],
   "source": [
    "history = model.fit(x=train_batches,\n",
    "    validation_data=valid_batches,\n",
    "    epochs=10,\n",
    "    class_weight=class_weights_dict,\n",
    "    verbose=1\n",
    ")"
   ]
  },
  {
   "cell_type": "code",
   "execution_count": 15,
   "id": "29d0a170-ef48-4933-ac6e-b84d508033b6",
   "metadata": {},
   "outputs": [],
   "source": [
    "history_dict = history.history\n",
    "model_loss = pd.DataFrame(history_dict)"
   ]
  },
  {
   "cell_type": "code",
   "execution_count": 16,
   "id": "d13b03b7-9d14-4734-b6b5-490eecf42b4d",
   "metadata": {},
   "outputs": [],
   "source": [
    "model_loss.to_csv(\"vgg19_training_history_10epoch.csv\", index=False)"
   ]
  },
  {
   "cell_type": "code",
   "execution_count": 17,
   "id": "841b6a88-7082-4d59-9b35-0d2b966835bc",
   "metadata": {},
   "outputs": [
    {
     "data": {
      "image/png": "[encoded data removed]",
      "text/plain": [
       "<Figure size 640x480 with 1 Axes>"
      ]
     },
     "metadata": {},
     "output_type": "display_data"
    }
   ],
   "source": [
    "plt.plot(model_loss['loss'],label = 'train_loss')\n",
    "plt.plot(model_loss['val_loss'],label = 'validation_loss')\n",
    "plt.legend()\n",
    "plt.show() "
   ]
  },
  {
   "cell_type": "code",
   "execution_count": 18,
   "id": "966a3434-88b1-43ed-9bbe-ff087765c1cf",
   "metadata": {},
   "outputs": [
    {
     "data": {
      "image/png": "[encoded data removed]",
      "text/plain": [
       "<Figure size 640x480 with 1 Axes>"
      ]
     },
     "metadata": {},
     "output_type": "display_data"
    }
   ],
   "source": [
    "plt.plot(model_loss['accuracy'],label = 'train_accuracy')\n",
    "plt.plot(model_loss['val_accuracy'],label = 'validation_accuracy')\n",
    "plt.legend()\n",
    "plt.show()"
   ]
  },
  {
   "cell_type": "code",
   "execution_count": 19,
   "id": "df66c93b-138c-46d7-b735-3085451f0b3d",
   "metadata": {},
   "outputs": [
    {
     "name": "stdout",
     "output_type": "stream",
     "text": [
      "371/371 [==============================] - 120s 324ms/step\n"
     ]
    }
   ],
   "source": [
    "predictions = model.predict(x=test_batches, steps=len(test_batches), verbose=1)"
   ]
  },
  {
   "cell_type": "code",
   "execution_count": 20,
   "id": "dc3427ad-e4c4-40df-a3e3-18d0c12f1c7c",
   "metadata": {},
   "outputs": [
    {
     "name": "stdout",
     "output_type": "stream",
     "text": [
      "              precision    recall  f1-score   support\n",
      "\n",
      "           0       0.90      0.92      0.91      4153\n",
      "           1       0.80      0.75      0.77      1781\n",
      "\n",
      "    accuracy                           0.87      5934\n",
      "   macro avg       0.85      0.84      0.84      5934\n",
      "weighted avg       0.87      0.87      0.87      5934\n",
      "\n"
     ]
    }
   ],
   "source": [
    "print(classification_report(test_batches.classes,np.argmax(predictions, axis = -1)))"
   ]
  },
  {
   "cell_type": "markdown",
   "id": "2da83c92-2ccb-4edf-8a83-11e7acca98c6",
   "metadata": {},
   "source": [
    "## Test with image from internet"
   ]
  },
  {
   "cell_type": "code",
   "execution_count": 21,
   "id": "c5411b05-e7f5-4a8d-be0e-eeb04fccf543",
   "metadata": {},
   "outputs": [],
   "source": [
    "test2_dir = 'data/test2/'"
   ]
  },
  {
   "cell_type": "code",
   "execution_count": 22,
   "id": "9f9fbe47-846e-4926-90be-ed913fa119b0",
   "metadata": {},
   "outputs": [
    {
     "name": "stdout",
     "output_type": "stream",
     "text": [
      "Found 40 images belonging to 2 classes.\n"
     ]
    }
   ],
   "source": [
    "test_batches2 = data_gen.flow_from_directory(\n",
    "    test2_dir,\n",
    "    target_size=img_size,\n",
    "    batch_size=batch_size,\n",
    "    class_mode='categorical',\n",
    "    shuffle=False\n",
    ")"
   ]
  },
  {
   "cell_type": "code",
   "execution_count": 23,
   "id": "4ec7cb42-c97d-42d6-b63e-8e8bdeba35d5",
   "metadata": {},
   "outputs": [
    {
     "name": "stderr",
     "output_type": "stream",
     "text": [
      "C:\\Users\\Phattaradanai\\anaconda3\\envs\\tenserflowgpu\\lib\\site-packages\\PIL\\Image.py:1056: UserWarning: Palette images with Transparency expressed in bytes should be converted to RGBA images\n",
      "  warnings.warn(\n"
     ]
    },
    {
     "name": "stdout",
     "output_type": "stream",
     "text": [
      "3/3 [==============================] - 5s 2s/step\n"
     ]
    }
   ],
   "source": [
    "predictions = model.predict(x=test_batches2, steps=len(test_batches2), verbose=1)"
   ]
  },
  {
   "cell_type": "code",
   "execution_count": 24,
   "id": "95659a73-2bbc-43c9-9ff7-04c53c4476ed",
   "metadata": {},
   "outputs": [
    {
     "name": "stdout",
     "output_type": "stream",
     "text": [
      "              precision    recall  f1-score   support\n",
      "\n",
      "           0       0.68      0.85      0.76        20\n",
      "           1       0.80      0.60      0.69        20\n",
      "\n",
      "    accuracy                           0.72        40\n",
      "   macro avg       0.74      0.72      0.72        40\n",
      "weighted avg       0.74      0.72      0.72        40\n",
      "\n"
     ]
    }
   ],
   "source": [
    "print(classification_report(test_batches2.classes,np.argmax(predictions, axis = -1)))"
   ]
  },
  {
   "cell_type": "code",
   "execution_count": 25,
   "id": "2bfe0a4e-a964-493b-8c80-9859582b3931",
   "metadata": {},
   "outputs": [],
   "source": [
    "model.save('modelvgg1910epoch.h5')"
   ]
  }
 ],
 "metadata": {
  "kernelspec": {
   "display_name": "Python 3 (ipykernel)",
   "language": "python",
   "name": "python3"
  },
  "language_info": {
   "codemirror_mode": {
    "name": "ipython",
    "version": 3
   },
   "file_extension": ".py",
   "mimetype": "text/x-python",
   "name": "python",
   "nbconvert_exporter": "python",
   "pygments_lexer": "ipython3",
   "version": "3.10.14"
  }
 },
 "nbformat": 4,
 "nbformat_minor": 5
}
